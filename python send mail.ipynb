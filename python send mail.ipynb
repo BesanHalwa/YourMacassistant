{
 "cells": [
  {
   "cell_type": "code",
   "execution_count": 12,
   "metadata": {},
   "outputs": [
    {
     "name": "stdout",
     "output_type": "stream",
     "text": [
      "Something went wrong...\n"
     ]
    }
   ],
   "source": [
    "import smtplib\n",
    "\n",
    "gmail_user = 'you@gmail.com'  \n",
    "gmail_password = 'P@ssword!'\n",
    "\n",
    "try:  \n",
    "    server = smtplib.SMTP_SSL('smtp.gmail.com', 465)\n",
    "    server.ehlo()\n",
    "    server.login(gmail_user, gmail_password)\n",
    "except:  \n",
    "    print('Something went wrong...')\n"
   ]
  },
  {
   "cell_type": "code",
   "execution_count": 18,
   "metadata": {},
   "outputs": [
    {
     "name": "stdout",
     "output_type": "stream",
     "text": [
      "Something went wrong...\n"
     ]
    }
   ],
   "source": [
    "import smtplib\n",
    "\n",
    "gmail_user = 'headband18bhu@gmail.com'  \n",
    "gmail_password = 'bhuproject'\n",
    "\n",
    "sent_from = gmail_user  \n",
    "to = ['iameshanpandey@gmail.com', 'contacteshanpandey@gmail.com']  \n",
    "subject = 'jarvis can now send an email in night'  \n",
    "body = 'I am sending this mail again to check the sepeed of mail delivery\\n\\n- You'\n",
    "\n",
    "email_text = \"\"\"\\  \n",
    "From: %s  \n",
    "To: %s  \n",
    "Subject: %s\n",
    "\n",
    "%s\n",
    "\"\"\" % (sent_from, \", \".join(to), subject, body)\n",
    "\n",
    "try:  \n",
    "    server = smtplib.SMTP_SSL('smtp.gmail.com', 587)\n",
    "    server.ehlo()\n",
    "    server.login(gmail_user, gmail_password)\n",
    "    server.sendmail(sent_from, to, email_text)\n",
    "    server.close()\n",
    "\n",
    "    print('Email sent!')\n",
    "except:  \n",
    "    print('Something went wrong...')\n"
   ]
  },
  {
   "cell_type": "code",
   "execution_count": 20,
   "metadata": {},
   "outputs": [],
   "source": [
    "import smtplib\n",
    "\n",
    "gmail_user = 'headapp18@gmail.com'  \n",
    "gmail_password = 'bhuproject'\n",
    "\n",
    "sent_from = gmail_user  \n",
    "to = ['iameshanpandey@gmail.com', 'contacteshanpandey@gmail.com']  \n",
    "subject = 'jarvis can now send an email in night'  \n",
    "body = 'I am sending this mail again to check the sepeed of mail delivery\\n\\n- You'\n",
    "\n",
    "email_text = \"\"\"\\  \n",
    "From: %s  \n",
    "To: %s  \n",
    "Subject: %s\n",
    "\n",
    "%s\n",
    "\"\"\" % (sent_from, \", \".join(to), subject, body)\n",
    "\n",
    " \n",
    "server = smtplib.SMTP_SSL('smtp.gmail.com', 465)\n",
    "server.ehlo()\n",
    "server.login(gmail_user, gmail_password)\n",
    "server.sendmail(sent_from, to, email_text)\n",
    "server.close()\n",
    "\n",
    "\n",
    "\n"
   ]
  },
  {
   "cell_type": "code",
   "execution_count": null,
   "metadata": {},
   "outputs": [],
   "source": []
  }
 ],
 "metadata": {
  "kernelspec": {
   "display_name": "Python 3",
   "language": "python",
   "name": "python3"
  },
  "language_info": {
   "codemirror_mode": {
    "name": "ipython",
    "version": 3
   },
   "file_extension": ".py",
   "mimetype": "text/x-python",
   "name": "python",
   "nbconvert_exporter": "python",
   "pygments_lexer": "ipython3",
   "version": "3.6.4"
  }
 },
 "nbformat": 4,
 "nbformat_minor": 2
}
