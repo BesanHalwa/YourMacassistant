{
 "cells": [
  {
   "cell_type": "code",
   "execution_count": null,
   "metadata": {},
   "outputs": [],
   "source": [
    "import requests"
   ]
  },
  {
   "cell_type": "code",
   "execution_count": null,
   "metadata": {},
   "outputs": [],
   "source": [
    "class OCRSpace:\n",
    "    def __init__(self, api_key):\n",
    "        \"\"\" ocr.space API wrapper\n",
    "        :param api_key: API key string\n",
    "        :param language: document language\n",
    "        \"\"\"\n",
    "        self.api_key = api_key\n",
    "        self.payload = {\n",
    "            \n",
    "            'apikey': self.api_key,\n",
    "            'language': 'eng',\n",
    "        }\n",
    "\n",
    "    def ocr_file(self, filename):\n",
    "        \"\"\" OCR.space API request with local file\n",
    "        :param filename: Your file path & name\n",
    "        :return: Result in JSON format\n",
    "        \"\"\"\n",
    "        with open(filename, 'rb') as f:\n",
    "            r = requests.post(\n",
    "                'https://api.ocr.space/parse/image',\n",
    "                files={filename: f},\n",
    "                data=self.payload,\n",
    "            )\n",
    "        return r.json()\n",
    "\n",
    "    def ocr_url(self, url):\n",
    "        \"\"\" OCR.space API request with remote file\n",
    "        :param url: Image url\n",
    "        :return: Result in JSON format.\n",
    "        \"\"\"\n",
    "        data = self.payload\n",
    "        data['url'] = url\n",
    "        r = requests.post(\n",
    "            'https://api.ocr.space/parse/image',\n",
    "            data=data,\n",
    "        )\n",
    "        return r.json()"
   ]
  },
  {
   "cell_type": "code",
   "execution_count": null,
   "metadata": {},
   "outputs": [],
   "source": [
    "obj = OCRSpace(api_key='fdcfa151c288957')"
   ]
  },
  {
   "cell_type": "code",
   "execution_count": null,
   "metadata": {},
   "outputs": [],
   "source": []
  }
 ],
 "metadata": {
  "kernelspec": {
   "display_name": "Python 3",
   "language": "python",
   "name": "python3"
  },
  "language_info": {
   "codemirror_mode": {
    "name": "ipython",
    "version": 3
   },
   "file_extension": ".py",
   "mimetype": "text/x-python",
   "name": "python",
   "nbconvert_exporter": "python",
   "pygments_lexer": "ipython3",
   "version": "3.6.4"
  }
 },
 "nbformat": 4,
 "nbformat_minor": 2
}
