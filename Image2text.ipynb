{
 "cells": [
  {
   "cell_type": "code",
   "execution_count": 113,
   "metadata": {},
   "outputs": [],
   "source": [
    "# https://ocr.space/ocrapi\n",
    "# https://github.com/Zaargh/ocr.space_code_example/blob/master/ocrspace_example.py\n",
    "# https://github.com/a4fr/ocr_space_api_wrapper/blob/master/ocr.py"
   ]
  },
  {
   "cell_type": "code",
   "execution_count": 10,
   "metadata": {},
   "outputs": [],
   "source": [
    "import requests"
   ]
  },
  {
   "cell_type": "code",
   "execution_count": 11,
   "metadata": {},
   "outputs": [],
   "source": [
    "class OCRSpace:\n",
    "    def __init__(self, api_key):\n",
    "        \"\"\" ocr.space API wrapper\n",
    "        :param api_key: API key string\n",
    "        :param language: document language\n",
    "        \"\"\"\n",
    "        self.api_key = api_key\n",
    "        self.payload = {\n",
    "            \n",
    "            'apikey': self.api_key,\n",
    "            'language': 'eng',\n",
    "        }\n",
    "\n",
    "    def ocr_file(self, filename):\n",
    "        \"\"\" OCR.space API request with local file\n",
    "        :param filename: Your file path & name\n",
    "        :return: Result in JSON format\n",
    "        \"\"\"\n",
    "        with open(filename, 'rb') as f:\n",
    "            r = requests.post(\n",
    "                'https://api.ocr.space/parse/image',\n",
    "                files={filename: f},\n",
    "                data=self.payload,\n",
    "            )\n",
    "        return r.json()\n",
    "\n",
    "    def ocr_url(self, url):\n",
    "        \"\"\" OCR.space API request with remote file\n",
    "        :param url: Image url\n",
    "        :return: Result in JSON format.\n",
    "        \"\"\"\n",
    "        data = self.payload\n",
    "        data['url'] = url\n",
    "        r = requests.post(\n",
    "            'https://api.ocr.space/parse/image',\n",
    "            data=data,\n",
    "        )\n",
    "        return r.json()"
   ]
  },
  {
   "cell_type": "code",
   "execution_count": 12,
   "metadata": {},
   "outputs": [],
   "source": [
    "obj = OCRSpace(api_key='fdcfa151c288957')"
   ]
  },
  {
   "cell_type": "code",
   "execution_count": 13,
   "metadata": {},
   "outputs": [],
   "source": [
    "json_obj = obj.ocr_file('one.jpg')"
   ]
  },
  {
   "cell_type": "code",
   "execution_count": 14,
   "metadata": {},
   "outputs": [
    {
     "data": {
      "text/plain": [
       "{'IsErroredOnProcessing': False,\n",
       " 'OCRExitCode': 1,\n",
       " 'ParsedResults': [{'ErrorDetails': '',\n",
       "   'ErrorMessage': '',\n",
       "   'FileParseExitCode': 1,\n",
       "   'ParsedText': \"Desire: The Starting Point of All Achievement \\r\\n59 \\r\\nthe medium by which people staged a comeback after \\r\\nhavtng been defeated in 100 different ways; I have \\r\\nseen it provide my own son with a normal, happy, \\r\\nsuccessful life. despite Nature having sent him into the \\r\\nworld without ears. \\r\\nHow can one harness and use the power of desire? \\r\\nThis has been answered through this chapter, and the \\r\\nsubsequent chapters of this book. \\r\\nI Wish to convey the thought that all achievement, \\r\\nno matter what its nature or purpose, must begin with \\r\\nan intense. burning desire for something definite. \\r\\nThrough some strange and powerful principle of \\r\\n•mental chemistry', Nature wraps up in the impulse of \\r\\nstrong desire 'that something' which recognises no \\r\\nsuch word as impossible. and accepts no such reality \\r\\naa failure. \\r\\n\",\n",
       "   'TextOrientation': '0',\n",
       "   'TextOverlay': {'HasOverlay': False,\n",
       "    'Lines': [],\n",
       "    'Message': 'Text overlay is not provided as it is not requested'}}],\n",
       " 'ProcessingTimeInMilliseconds': '613',\n",
       " 'SearchablePDFURL': 'Searchable PDF not generated as it was not requested.'}"
      ]
     },
     "execution_count": 14,
     "metadata": {},
     "output_type": "execute_result"
    }
   ],
   "source": [
    "json_obj"
   ]
  },
  {
   "cell_type": "code",
   "execution_count": 15,
   "metadata": {},
   "outputs": [
    {
     "name": "stdout",
     "output_type": "stream",
     "text": [
      "ParsedResults\n",
      "[{'TextOverlay': {'Lines': [], 'HasOverlay': False, 'Message': 'Text overlay is not provided as it is not requested'}, 'TextOrientation': '0', 'FileParseExitCode': 1, 'ParsedText': \"Desire: The Starting Point of All Achievement \\r\\n59 \\r\\nthe medium by which people staged a comeback after \\r\\nhavtng been defeated in 100 different ways; I have \\r\\nseen it provide my own son with a normal, happy, \\r\\nsuccessful life. despite Nature having sent him into the \\r\\nworld without ears. \\r\\nHow can one harness and use the power of desire? \\r\\nThis has been answered through this chapter, and the \\r\\nsubsequent chapters of this book. \\r\\nI Wish to convey the thought that all achievement, \\r\\nno matter what its nature or purpose, must begin with \\r\\nan intense. burning desire for something definite. \\r\\nThrough some strange and powerful principle of \\r\\n•mental chemistry', Nature wraps up in the impulse of \\r\\nstrong desire 'that something' which recognises no \\r\\nsuch word as impossible. and accepts no such reality \\r\\naa failure. \\r\\n\", 'ErrorMessage': '', 'ErrorDetails': ''}]\n",
      "------------------\n",
      "OCRExitCode\n",
      "1\n",
      "------------------\n",
      "IsErroredOnProcessing\n",
      "False\n",
      "------------------\n",
      "ProcessingTimeInMilliseconds\n",
      "613\n",
      "------------------\n",
      "SearchablePDFURL\n",
      "Searchable PDF not generated as it was not requested.\n",
      "------------------\n"
     ]
    }
   ],
   "source": [
    "import json\n",
    "\n",
    "\n",
    "for key, value in dict.items(json_obj):\n",
    "    print (key)\n",
    "    print(value)\n",
    "    print(\"------------------\")"
   ]
  },
  {
   "cell_type": "code",
   "execution_count": 16,
   "metadata": {},
   "outputs": [
    {
     "name": "stdout",
     "output_type": "stream",
     "text": [
      "Desire: The Starting Point of All Achievement \r\n",
      "59 \r\n",
      "the medium by which people staged a comeback after \r\n",
      "havtng been defeated in 100 different ways; I have \r\n",
      "seen it provide my own son with a normal, happy, \r\n",
      "successful life. despite Nature having sent him into the \r\n",
      "world without ears. \r\n",
      "How can one harness and use the power of desire? \r\n",
      "This has been answered through this chapter, and the \r\n",
      "subsequent chapters of this book. \r\n",
      "I Wish to convey the thought that all achievement, \r\n",
      "no matter what its nature or purpose, must begin with \r\n",
      "an intense. burning desire for something definite. \r\n",
      "Through some strange and powerful principle of \r\n",
      "•mental chemistry', Nature wraps up in the impulse of \r\n",
      "strong desire 'that something' which recognises no \r\n",
      "such word as impossible. and accepts no such reality \r\n",
      "aa failure. \r\n",
      "\n"
     ]
    }
   ],
   "source": [
    "data = json_obj['ParsedResults']\n",
    "txt = data[0]['ParsedText']\n",
    "print(data[0]['ParsedText'])"
   ]
  },
  {
   "cell_type": "code",
   "execution_count": 17,
   "metadata": {},
   "outputs": [
    {
     "data": {
      "text/plain": [
       "{'ErrorDetails': '',\n",
       " 'ErrorMessage': '',\n",
       " 'FileParseExitCode': 1,\n",
       " 'ParsedText': \"Desire: The Starting Point of All Achievement \\r\\n59 \\r\\nthe medium by which people staged a comeback after \\r\\nhavtng been defeated in 100 different ways; I have \\r\\nseen it provide my own son with a normal, happy, \\r\\nsuccessful life. despite Nature having sent him into the \\r\\nworld without ears. \\r\\nHow can one harness and use the power of desire? \\r\\nThis has been answered through this chapter, and the \\r\\nsubsequent chapters of this book. \\r\\nI Wish to convey the thought that all achievement, \\r\\nno matter what its nature or purpose, must begin with \\r\\nan intense. burning desire for something definite. \\r\\nThrough some strange and powerful principle of \\r\\n•mental chemistry', Nature wraps up in the impulse of \\r\\nstrong desire 'that something' which recognises no \\r\\nsuch word as impossible. and accepts no such reality \\r\\naa failure. \\r\\n\",\n",
       " 'TextOrientation': '0',\n",
       " 'TextOverlay': {'HasOverlay': False,\n",
       "  'Lines': [],\n",
       "  'Message': 'Text overlay is not provided as it is not requested'}}"
      ]
     },
     "execution_count": 17,
     "metadata": {},
     "output_type": "execute_result"
    }
   ],
   "source": [
    "data[0]"
   ]
  },
  {
   "cell_type": "code",
   "execution_count": 18,
   "metadata": {},
   "outputs": [
    {
     "data": {
      "text/plain": [
       "str"
      ]
     },
     "execution_count": 18,
     "metadata": {},
     "output_type": "execute_result"
    }
   ],
   "source": [
    "type(data[0]['ParsedText'])"
   ]
  },
  {
   "cell_type": "code",
   "execution_count": 20,
   "metadata": {},
   "outputs": [],
   "source": [
    "import os\n",
    "def speak(text, delimeter='.'):\n",
    "    # split the paragraph into sentences\n",
    "    # or as according to the delimeter\n",
    "    text = str(text).split(delimeter)\n",
    "\n",
    "    for txt in text:\n",
    "        txt = txt.rstrip()\n",
    "        os.system(\"say \" + txt)\n",
    "\n",
    "    return 0\n",
    "\n"
   ]
  },
  {
   "cell_type": "code",
   "execution_count": 23,
   "metadata": {},
   "outputs": [
    {
     "data": {
      "text/plain": [
       "0"
      ]
     },
     "execution_count": 23,
     "metadata": {},
     "output_type": "execute_result"
    }
   ],
   "source": [
    "speak(txt)"
   ]
  },
  {
   "cell_type": "code",
   "execution_count": 22,
   "metadata": {},
   "outputs": [
    {
     "data": {
      "text/plain": [
       "\"Desire: The Starting Point of All Achievement \\r\\n59 \\r\\nthe medium by which people staged a comeback after \\r\\nhavtng been defeated in 100 different ways; I have \\r\\nseen it provide my own son with a normal, happy, \\r\\nsuccessful life. despite Nature having sent him into the \\r\\nworld without ears. \\r\\nHow can one harness and use the power of desire? \\r\\nThis has been answered through this chapter, and the \\r\\nsubsequent chapters of this book. \\r\\nI Wish to convey the thought that all achievement, \\r\\nno matter what its nature or purpose, must begin with \\r\\nan intense. burning desire for something definite. \\r\\nThrough some strange and powerful principle of \\r\\n•mental chemistry', Nature wraps up in the impulse of \\r\\nstrong desire 'that something' which recognises no \\r\\nsuch word as impossible. and accepts no such reality \\r\\naa failure. \\r\\n\""
      ]
     },
     "execution_count": 22,
     "metadata": {},
     "output_type": "execute_result"
    }
   ],
   "source": [
    "txt"
   ]
  },
  {
   "cell_type": "code",
   "execution_count": 24,
   "metadata": {},
   "outputs": [],
   "source": [
    "txt = txt.replace('\\n','')\n",
    "txt = txt.replace('\\t','')"
   ]
  },
  {
   "cell_type": "code",
   "execution_count": 25,
   "metadata": {},
   "outputs": [
    {
     "data": {
      "text/plain": [
       "0"
      ]
     },
     "execution_count": 25,
     "metadata": {},
     "output_type": "execute_result"
    }
   ],
   "source": [
    "speak(txt)"
   ]
  },
  {
   "cell_type": "code",
   "execution_count": null,
   "metadata": {},
   "outputs": [],
   "source": []
  },
  {
   "cell_type": "code",
   "execution_count": null,
   "metadata": {},
   "outputs": [],
   "source": []
  },
  {
   "cell_type": "code",
   "execution_count": null,
   "metadata": {},
   "outputs": [],
   "source": []
  },
  {
   "cell_type": "code",
   "execution_count": null,
   "metadata": {},
   "outputs": [],
   "source": []
  },
  {
   "cell_type": "code",
   "execution_count": null,
   "metadata": {},
   "outputs": [],
   "source": []
  },
  {
   "cell_type": "code",
   "execution_count": null,
   "metadata": {},
   "outputs": [],
   "source": []
  },
  {
   "cell_type": "code",
   "execution_count": null,
   "metadata": {},
   "outputs": [],
   "source": []
  },
  {
   "cell_type": "code",
   "execution_count": 85,
   "metadata": {},
   "outputs": [],
   "source": [
    "k = {'gallahad': 'the pure', 'robin': 'the brave'}"
   ]
  },
  {
   "cell_type": "code",
   "execution_count": 86,
   "metadata": {},
   "outputs": [
    {
     "name": "stdout",
     "output_type": "stream",
     "text": [
      "{'gallahad': 'the pure', 'robin': 'the brave'}\n"
     ]
    }
   ],
   "source": [
    "print(k)"
   ]
  },
  {
   "cell_type": "code",
   "execution_count": 87,
   "metadata": {},
   "outputs": [
    {
     "name": "stdout",
     "output_type": "stream",
     "text": [
      "the pure\n"
     ]
    }
   ],
   "source": [
    "print(k['gallahad'])"
   ]
  },
  {
   "cell_type": "code",
   "execution_count": null,
   "metadata": {},
   "outputs": [],
   "source": []
  },
  {
   "cell_type": "code",
   "execution_count": null,
   "metadata": {},
   "outputs": [],
   "source": []
  },
  {
   "cell_type": "code",
   "execution_count": null,
   "metadata": {},
   "outputs": [],
   "source": []
  },
  {
   "cell_type": "code",
   "execution_count": null,
   "metadata": {},
   "outputs": [],
   "source": []
  },
  {
   "cell_type": "code",
   "execution_count": null,
   "metadata": {},
   "outputs": [],
   "source": []
  },
  {
   "cell_type": "code",
   "execution_count": 25,
   "metadata": {},
   "outputs": [],
   "source": [
    "def text_from_image(image = 'ss2.png'):\n",
    "    obj = OCRSpace(api_key='fdcfa151c288957')\n",
    "    json_obj = obj.ocr_file(image)\n",
    "    data = json_obj['ParsedResults']\n",
    "    text = data[0]['ParsedText']\n",
    "    return text"
   ]
  },
  {
   "cell_type": "code",
   "execution_count": 26,
   "metadata": {},
   "outputs": [],
   "source": [
    "text = text_from_image()"
   ]
  },
  {
   "cell_type": "code",
   "execution_count": 57,
   "metadata": {},
   "outputs": [
    {
     "ename": "NameError",
     "evalue": "name 'text' is not defined",
     "output_type": "error",
     "traceback": [
      "\u001b[0;31m---------------------------------------------------------------------------\u001b[0m",
      "\u001b[0;31mNameError\u001b[0m                                 Traceback (most recent call last)",
      "\u001b[0;32m<ipython-input-57-e0211cbce30a>\u001b[0m in \u001b[0;36m<module>\u001b[0;34m()\u001b[0m\n\u001b[0;32m----> 1\u001b[0;31m \u001b[0mprint\u001b[0m\u001b[0;34m(\u001b[0m\u001b[0mtext\u001b[0m\u001b[0;34m)\u001b[0m\u001b[0;34m\u001b[0m\u001b[0m\n\u001b[0m",
      "\u001b[0;31mNameError\u001b[0m: name 'text' is not defined"
     ]
    }
   ],
   "source": [
    "print(text)"
   ]
  },
  {
   "cell_type": "code",
   "execution_count": 22,
   "metadata": {},
   "outputs": [
    {
     "name": "stdout",
     "output_type": "stream",
     "text": [
      "Lines\n",
      "[]\n",
      "------------------\n",
      "HasOverlay\n",
      "False\n",
      "------------------\n",
      "Message\n",
      "Text overlay is not provided as it is not requested\n",
      "------------------\n"
     ]
    }
   ],
   "source": [
    "for key, value in dict.items(data[0]['TextOverlay']):\n",
    "    print (key)\n",
    "    print(value)\n",
    "    print(\"------------------\")"
   ]
  },
  {
   "cell_type": "code",
   "execution_count": 23,
   "metadata": {},
   "outputs": [
    {
     "name": "stdout",
     "output_type": "stream",
     "text": [
      "Lines\n",
      "[]\n",
      "--------\n",
      "HasOverlay\n",
      "False\n",
      "--------\n",
      "Message\n",
      "Text overlay is not provided as it is not requested\n",
      "--------\n"
     ]
    }
   ],
   "source": [
    "data1 = data[0]['TextOverlay']\n",
    "for k, v in data1.items():\n",
    "    print(k) \n",
    "    print(v)\n",
    "    print(\"--------\")"
   ]
  },
  {
   "cell_type": "code",
   "execution_count": null,
   "metadata": {},
   "outputs": [],
   "source": []
  },
  {
   "cell_type": "code",
   "execution_count": null,
   "metadata": {},
   "outputs": [],
   "source": []
  },
  {
   "cell_type": "code",
   "execution_count": null,
   "metadata": {},
   "outputs": [],
   "source": []
  },
  {
   "cell_type": "code",
   "execution_count": null,
   "metadata": {},
   "outputs": [],
   "source": []
  },
  {
   "cell_type": "code",
   "execution_count": null,
   "metadata": {},
   "outputs": [],
   "source": []
  },
  {
   "cell_type": "code",
   "execution_count": null,
   "metadata": {},
   "outputs": [],
   "source": []
  },
  {
   "cell_type": "code",
   "execution_count": 101,
   "metadata": {},
   "outputs": [
    {
     "name": "stdout",
     "output_type": "stream",
     "text": [
      "\u001b[34mAPP\u001b[m\u001b[m                           detect blur.ipynb\r\n",
      "App.ipynb                     detect_blur.py\r\n",
      "App.py                        eshan.jpg\r\n",
      "Cam2img.ipynb                 \u001b[34mfinal_app\u001b[m\u001b[m\r\n",
      "Face Recognisation.ipynb      frame.jpg\r\n",
      "FaceDetection API.pages       git_img_to_text.py\r\n",
      "Image2text.ipynb              im2text.py\r\n",
      "News.ipynb                    microphone-results.raw\r\n",
      "Not Face rercognisation.ipynb obama.jpeg\r\n",
      "Play Music from library.ipynb opencv.ipynb\r\n",
      "Scene Recognisation.ipynb     python send mail.ipynb\r\n",
      "Speech Recognisation.ipynb    python speaks.ipynb\r\n",
      "TF-MNIST.ipynb                ss.png\r\n",
      "The Hindu API.ipynb           ss1.png\r\n",
      "Wikipedia search.ipynb        ss2.png\r\n",
      "allfaces.npy                  ss3.png\r\n",
      "allnames.npy                  ss4.png\r\n",
      "capture.jpg                   ss5.png\r\n",
      "capture.png                   \u001b[34mtemp\u001b[m\u001b[m\r\n",
      "capture_img.py                testfile.json\r\n",
      "charu.jpg                     text2speech.ipynb\r\n",
      "\u001b[34mdetect\u001b[m\u001b[m\r\n"
     ]
    }
   ],
   "source": [
    "!ls"
   ]
  },
  {
   "cell_type": "code",
   "execution_count": 10,
   "metadata": {},
   "outputs": [
    {
     "data": {
      "text/plain": [
       "True"
      ]
     },
     "execution_count": 10,
     "metadata": {},
     "output_type": "execute_result"
    }
   ],
   "source": [
    "import cv2\n",
    "image = 'ss8.png'\n",
    "img = cv2.imread(image)\n",
    "height, width, chanel = img.shape\n",
    "cv2.imwrite('page.jpg',img)\n",
    "\n"
   ]
  },
  {
   "cell_type": "code",
   "execution_count": null,
   "metadata": {},
   "outputs": [],
   "source": [
    "img = cv2.resize(img, ((height/3) , (width/3)))"
   ]
  }
 ],
 "metadata": {
  "kernelspec": {
   "display_name": "Python 3",
   "language": "python",
   "name": "python3"
  },
  "language_info": {
   "codemirror_mode": {
    "name": "ipython",
    "version": 3
   },
   "file_extension": ".py",
   "mimetype": "text/x-python",
   "name": "python",
   "nbconvert_exporter": "python",
   "pygments_lexer": "ipython3",
   "version": "3.6.4"
  }
 },
 "nbformat": 4,
 "nbformat_minor": 2
}
