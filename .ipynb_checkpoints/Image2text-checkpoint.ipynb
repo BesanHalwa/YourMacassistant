{
 "cells": [
  {
   "cell_type": "code",
   "execution_count": 113,
   "metadata": {},
   "outputs": [],
   "source": [
    "# https://ocr.space/ocrapi\n",
    "# https://github.com/Zaargh/ocr.space_code_example/blob/master/ocrspace_example.py\n",
    "# https://github.com/a4fr/ocr_space_api_wrapper/blob/master/ocr.py"
   ]
  },
  {
   "cell_type": "code",
   "execution_count": 13,
   "metadata": {},
   "outputs": [],
   "source": [
    "import requests"
   ]
  },
  {
   "cell_type": "code",
   "execution_count": 22,
   "metadata": {},
   "outputs": [],
   "source": [
    "class OCRSpace:\n",
    "    def __init__(self, api_key):\n",
    "        \"\"\" ocr.space API wrapper\n",
    "        :param api_key: API key string\n",
    "        :param language: document language\n",
    "        \"\"\"\n",
    "        self.api_key = api_key\n",
    "        self.payload = {\n",
    "            \n",
    "            'apikey': self.api_key,\n",
    "            'language': 'eng',\n",
    "        }\n",
    "\n",
    "    def ocr_file(self, filename):\n",
    "        \"\"\" OCR.space API request with local file\n",
    "        :param filename: Your file path & name\n",
    "        :return: Result in JSON format\n",
    "        \"\"\"\n",
    "        with open(filename, 'rb') as f:\n",
    "            r = requests.post(\n",
    "                'https://api.ocr.space/parse/image',\n",
    "                files={filename: f},\n",
    "                data=self.payload,\n",
    "            )\n",
    "        return r.json()\n",
    "\n",
    "    def ocr_url(self, url):\n",
    "        \"\"\" OCR.space API request with remote file\n",
    "        :param url: Image url\n",
    "        :return: Result in JSON format.\n",
    "        \"\"\"\n",
    "        data = self.payload\n",
    "        data['url'] = url\n",
    "        r = requests.post(\n",
    "            'https://api.ocr.space/parse/image',\n",
    "            data=data,\n",
    "        )\n",
    "        return r.json()"
   ]
  },
  {
   "cell_type": "code",
   "execution_count": 23,
   "metadata": {},
   "outputs": [],
   "source": [
    "obj = OCRSpace(api_key='fdcfa151c288957')"
   ]
  },
  {
   "cell_type": "code",
   "execution_count": 120,
   "metadata": {},
   "outputs": [],
   "source": [
    "json_obj = obj.ocr_file('s1.jpeg')"
   ]
  },
  {
   "cell_type": "code",
   "execution_count": 121,
   "metadata": {},
   "outputs": [
    {
     "data": {
      "text/plain": [
       "{'IsErroredOnProcessing': False,\n",
       " 'OCRExitCode': 1,\n",
       " 'ParsedResults': [{'ErrorDetails': '',\n",
       "   'ErrorMessage': '',\n",
       "   'FileParseExitCode': 1,\n",
       "   'ParsedText': 'Think \\r\\nand \\r\\nGrow Rich \\r\\nNapoleon Hill \\r\\n',\n",
       "   'TextOrientation': '0',\n",
       "   'TextOverlay': {'HasOverlay': False,\n",
       "    'Lines': [],\n",
       "    'Message': 'Text overlay is not provided as it is not requested'}}],\n",
       " 'ProcessingTimeInMilliseconds': '318',\n",
       " 'SearchablePDFURL': 'Searchable PDF not generated as it was not requested.'}"
      ]
     },
     "execution_count": 121,
     "metadata": {},
     "output_type": "execute_result"
    }
   ],
   "source": [
    "json_obj"
   ]
  },
  {
   "cell_type": "code",
   "execution_count": 122,
   "metadata": {},
   "outputs": [
    {
     "name": "stdout",
     "output_type": "stream",
     "text": [
      "ParsedResults\n",
      "[{'TextOverlay': {'Lines': [], 'HasOverlay': False, 'Message': 'Text overlay is not provided as it is not requested'}, 'TextOrientation': '0', 'FileParseExitCode': 1, 'ParsedText': 'Think \\r\\nand \\r\\nGrow Rich \\r\\nNapoleon Hill \\r\\n', 'ErrorMessage': '', 'ErrorDetails': ''}]\n",
      "------------------\n",
      "OCRExitCode\n",
      "1\n",
      "------------------\n",
      "IsErroredOnProcessing\n",
      "False\n",
      "------------------\n",
      "ProcessingTimeInMilliseconds\n",
      "318\n",
      "------------------\n",
      "SearchablePDFURL\n",
      "Searchable PDF not generated as it was not requested.\n",
      "------------------\n"
     ]
    }
   ],
   "source": [
    "import json\n",
    "\n",
    "\n",
    "for key, value in dict.items(json_obj):\n",
    "    print (key)\n",
    "    print(value)\n",
    "    print(\"------------------\")"
   ]
  },
  {
   "cell_type": "code",
   "execution_count": 123,
   "metadata": {},
   "outputs": [
    {
     "name": "stdout",
     "output_type": "stream",
     "text": [
      "Think \r\n",
      "and \r\n",
      "Grow Rich \r\n",
      "Napoleon Hill \r\n",
      "\n"
     ]
    }
   ],
   "source": [
    "data = json_obj['ParsedResults']\n",
    "txt = data[0]['ParsedText']\n",
    "print(data[0]['ParsedText'])"
   ]
  },
  {
   "cell_type": "code",
   "execution_count": 124,
   "metadata": {},
   "outputs": [
    {
     "data": {
      "text/plain": [
       "{'ErrorDetails': '',\n",
       " 'ErrorMessage': '',\n",
       " 'FileParseExitCode': 1,\n",
       " 'ParsedText': 'Think \\r\\nand \\r\\nGrow Rich \\r\\nNapoleon Hill \\r\\n',\n",
       " 'TextOrientation': '0',\n",
       " 'TextOverlay': {'HasOverlay': False,\n",
       "  'Lines': [],\n",
       "  'Message': 'Text overlay is not provided as it is not requested'}}"
      ]
     },
     "execution_count": 124,
     "metadata": {},
     "output_type": "execute_result"
    }
   ],
   "source": [
    "data[0]"
   ]
  },
  {
   "cell_type": "code",
   "execution_count": 125,
   "metadata": {},
   "outputs": [
    {
     "data": {
      "text/plain": [
       "str"
      ]
     },
     "execution_count": 125,
     "metadata": {},
     "output_type": "execute_result"
    }
   ],
   "source": [
    "type(data[0]['ParsedText'])"
   ]
  },
  {
   "cell_type": "code",
   "execution_count": null,
   "metadata": {},
   "outputs": [],
   "source": []
  },
  {
   "cell_type": "code",
   "execution_count": null,
   "metadata": {},
   "outputs": [],
   "source": []
  },
  {
   "cell_type": "code",
   "execution_count": null,
   "metadata": {},
   "outputs": [],
   "source": []
  },
  {
   "cell_type": "code",
   "execution_count": null,
   "metadata": {},
   "outputs": [],
   "source": []
  },
  {
   "cell_type": "code",
   "execution_count": null,
   "metadata": {},
   "outputs": [],
   "source": []
  },
  {
   "cell_type": "code",
   "execution_count": 85,
   "metadata": {},
   "outputs": [],
   "source": [
    "k = {'gallahad': 'the pure', 'robin': 'the brave'}"
   ]
  },
  {
   "cell_type": "code",
   "execution_count": 86,
   "metadata": {},
   "outputs": [
    {
     "name": "stdout",
     "output_type": "stream",
     "text": [
      "{'gallahad': 'the pure', 'robin': 'the brave'}\n"
     ]
    }
   ],
   "source": [
    "print(k)"
   ]
  },
  {
   "cell_type": "code",
   "execution_count": 87,
   "metadata": {},
   "outputs": [
    {
     "name": "stdout",
     "output_type": "stream",
     "text": [
      "the pure\n"
     ]
    }
   ],
   "source": [
    "print(k['gallahad'])"
   ]
  },
  {
   "cell_type": "code",
   "execution_count": null,
   "metadata": {},
   "outputs": [],
   "source": []
  },
  {
   "cell_type": "code",
   "execution_count": null,
   "metadata": {},
   "outputs": [],
   "source": []
  },
  {
   "cell_type": "code",
   "execution_count": null,
   "metadata": {},
   "outputs": [],
   "source": []
  },
  {
   "cell_type": "code",
   "execution_count": null,
   "metadata": {},
   "outputs": [],
   "source": []
  },
  {
   "cell_type": "code",
   "execution_count": null,
   "metadata": {},
   "outputs": [],
   "source": []
  },
  {
   "cell_type": "code",
   "execution_count": 25,
   "metadata": {},
   "outputs": [],
   "source": [
    "def text_from_image(image = 'ss2.png'):\n",
    "    obj = OCRSpace(api_key='fdcfa151c288957')\n",
    "    json_obj = obj.ocr_file(image)\n",
    "    data = json_obj['ParsedResults']\n",
    "    text = data[0]['ParsedText']\n",
    "    return text"
   ]
  },
  {
   "cell_type": "code",
   "execution_count": 26,
   "metadata": {},
   "outputs": [],
   "source": [
    "text = text_from_image()"
   ]
  },
  {
   "cell_type": "code",
   "execution_count": 57,
   "metadata": {},
   "outputs": [
    {
     "ename": "NameError",
     "evalue": "name 'text' is not defined",
     "output_type": "error",
     "traceback": [
      "\u001b[0;31m---------------------------------------------------------------------------\u001b[0m",
      "\u001b[0;31mNameError\u001b[0m                                 Traceback (most recent call last)",
      "\u001b[0;32m<ipython-input-57-e0211cbce30a>\u001b[0m in \u001b[0;36m<module>\u001b[0;34m()\u001b[0m\n\u001b[0;32m----> 1\u001b[0;31m \u001b[0mprint\u001b[0m\u001b[0;34m(\u001b[0m\u001b[0mtext\u001b[0m\u001b[0;34m)\u001b[0m\u001b[0;34m\u001b[0m\u001b[0m\n\u001b[0m",
      "\u001b[0;31mNameError\u001b[0m: name 'text' is not defined"
     ]
    }
   ],
   "source": [
    "print(text)"
   ]
  },
  {
   "cell_type": "code",
   "execution_count": 22,
   "metadata": {},
   "outputs": [
    {
     "name": "stdout",
     "output_type": "stream",
     "text": [
      "Lines\n",
      "[]\n",
      "------------------\n",
      "HasOverlay\n",
      "False\n",
      "------------------\n",
      "Message\n",
      "Text overlay is not provided as it is not requested\n",
      "------------------\n"
     ]
    }
   ],
   "source": [
    "for key, value in dict.items(data[0]['TextOverlay']):\n",
    "    print (key)\n",
    "    print(value)\n",
    "    print(\"------------------\")"
   ]
  },
  {
   "cell_type": "code",
   "execution_count": 23,
   "metadata": {},
   "outputs": [
    {
     "name": "stdout",
     "output_type": "stream",
     "text": [
      "Lines\n",
      "[]\n",
      "--------\n",
      "HasOverlay\n",
      "False\n",
      "--------\n",
      "Message\n",
      "Text overlay is not provided as it is not requested\n",
      "--------\n"
     ]
    }
   ],
   "source": [
    "data1 = data[0]['TextOverlay']\n",
    "for k, v in data1.items():\n",
    "    print(k) \n",
    "    print(v)\n",
    "    print(\"--------\")"
   ]
  },
  {
   "cell_type": "code",
   "execution_count": null,
   "metadata": {},
   "outputs": [],
   "source": []
  },
  {
   "cell_type": "code",
   "execution_count": null,
   "metadata": {},
   "outputs": [],
   "source": []
  },
  {
   "cell_type": "code",
   "execution_count": null,
   "metadata": {},
   "outputs": [],
   "source": []
  },
  {
   "cell_type": "code",
   "execution_count": null,
   "metadata": {},
   "outputs": [],
   "source": []
  },
  {
   "cell_type": "code",
   "execution_count": null,
   "metadata": {},
   "outputs": [],
   "source": []
  },
  {
   "cell_type": "code",
   "execution_count": null,
   "metadata": {},
   "outputs": [],
   "source": []
  },
  {
   "cell_type": "code",
   "execution_count": 101,
   "metadata": {},
   "outputs": [
    {
     "name": "stdout",
     "output_type": "stream",
     "text": [
      "\u001b[34mAPP\u001b[m\u001b[m                           detect blur.ipynb\r\n",
      "App.ipynb                     detect_blur.py\r\n",
      "App.py                        eshan.jpg\r\n",
      "Cam2img.ipynb                 \u001b[34mfinal_app\u001b[m\u001b[m\r\n",
      "Face Recognisation.ipynb      frame.jpg\r\n",
      "FaceDetection API.pages       git_img_to_text.py\r\n",
      "Image2text.ipynb              im2text.py\r\n",
      "News.ipynb                    microphone-results.raw\r\n",
      "Not Face rercognisation.ipynb obama.jpeg\r\n",
      "Play Music from library.ipynb opencv.ipynb\r\n",
      "Scene Recognisation.ipynb     python send mail.ipynb\r\n",
      "Speech Recognisation.ipynb    python speaks.ipynb\r\n",
      "TF-MNIST.ipynb                ss.png\r\n",
      "The Hindu API.ipynb           ss1.png\r\n",
      "Wikipedia search.ipynb        ss2.png\r\n",
      "allfaces.npy                  ss3.png\r\n",
      "allnames.npy                  ss4.png\r\n",
      "capture.jpg                   ss5.png\r\n",
      "capture.png                   \u001b[34mtemp\u001b[m\u001b[m\r\n",
      "capture_img.py                testfile.json\r\n",
      "charu.jpg                     text2speech.ipynb\r\n",
      "\u001b[34mdetect\u001b[m\u001b[m\r\n"
     ]
    }
   ],
   "source": [
    "!ls"
   ]
  },
  {
   "cell_type": "code",
   "execution_count": 105,
   "metadata": {},
   "outputs": [],
   "source": [
    "import cv2\n",
    "image = 'capture.png'\n",
    "img = cv2.imread(image)\n",
    "height, width, chanel = img.shape\n",
    "\n"
   ]
  },
  {
   "cell_type": "code",
   "execution_count": null,
   "metadata": {},
   "outputs": [],
   "source": [
    "img = cv2.resize(img, ((height/3) , (width/3)))"
   ]
  }
 ],
 "metadata": {
  "kernelspec": {
   "display_name": "Python 3",
   "language": "python",
   "name": "python3"
  },
  "language_info": {
   "codemirror_mode": {
    "name": "ipython",
    "version": 3
   },
   "file_extension": ".py",
   "mimetype": "text/x-python",
   "name": "python",
   "nbconvert_exporter": "python",
   "pygments_lexer": "ipython3",
   "version": "3.6.4"
  }
 },
 "nbformat": 4,
 "nbformat_minor": 2
}
