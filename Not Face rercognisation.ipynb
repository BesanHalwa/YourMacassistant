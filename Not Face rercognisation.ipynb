{
 "cells": [
  {
   "cell_type": "code",
   "execution_count": 1,
   "metadata": {},
   "outputs": [
    {
     "data": {
      "text/plain": [
       "\"\\n\\nApp name: Student's App\\nApp ID: ed538afc\\nKey: be41285e65df4645d91ed9fa637a5c5a\\n\\n\""
      ]
     },
     "execution_count": 1,
     "metadata": {},
     "output_type": "execute_result"
    }
   ],
   "source": [
    "\"\"\"\n",
    "KAIROS \n",
    "https://www.kairos.com/docs/getting-started-with-kairos-face-recognition\n",
    "App name: Student's App\n",
    "App ID: ed538afc\n",
    "Key: be41285e65df4645d91ed9fa637a5c5a\n",
    "\n",
    "\"\"\""
   ]
  },
  {
   "cell_type": "code",
   "execution_count": null,
   "metadata": {},
   "outputs": [],
   "source": []
  },
  {
   "cell_type": "code",
   "execution_count": 4,
   "metadata": {},
   "outputs": [
    {
     "name": "stdout",
     "output_type": "stream",
     "text": [
      "b'{\"images\":[{\"faces\":[{\"attributes\":{\"age\":38,\"asian\":0.00086,\"black\":0.00038,\"gender\":{\"femaleConfidence\":0,\"maleConfidence\":1,\"type\":\"M\"},\"glasses\":\"None\",\"hispanic\":0.00042,\"lips\":\"Apart\",\"other\":0,\"white\":0.99781},\"chinTipX\":292,\"chinTipY\":232,\"confidence\":0.99995,\"eyeDistance\":56,\"face_id\":1,\"height\":144,\"leftEyeCenterX\":273,\"leftEyeCenterY\":132,\"pitch\":12,\"quality\":0.26269,\"rightEyeCenterX\":329,\"rightEyeCenterY\":133,\"roll\":3,\"topLeftX\":236,\"topLeftY\":77,\"width\":116,\"yaw\":10}],\"file\":\"bill-gates-the-cofounder-of-the-microsoft-company-and-cofounder-of-picture-id543265518\",\"height\":409,\"status\":\"Complete\",\"width\":612}]}'\n"
     ]
    }
   ],
   "source": [
    "import requests\n",
    "\n",
    "# put your keys in the header\n",
    "headers = {\n",
    "    \"app_id\": \"ed538afc\",\n",
    "    \"app_key\": \"be41285e65df4645d91ed9fa637a5c5a\"\n",
    "}\n",
    "\n",
    "payload = '{\"image\":\"https://media.gettyimages.com/photos/bill-gates-the-cofounder-of-the-microsoft-company-and-cofounder-of-picture-id543265518?s=612x612\"}'\n",
    "\n",
    "url = \"http://api.kairos.com/detect\"\n",
    "\n",
    "# make request\n",
    "r = requests.post(url, data=payload, headers=headers)\n",
    "print (r.content)"
   ]
  },
  {
   "cell_type": "code",
   "execution_count": 5,
   "metadata": {},
   "outputs": [
    {
     "data": {
      "text/plain": [
       "requests.models.Response"
      ]
     },
     "execution_count": 5,
     "metadata": {},
     "output_type": "execute_result"
    }
   ],
   "source": [
    "type(r)"
   ]
  },
  {
   "cell_type": "code",
   "execution_count": 6,
   "metadata": {},
   "outputs": [
    {
     "data": {
      "text/plain": [
       "bytes"
      ]
     },
     "execution_count": 6,
     "metadata": {},
     "output_type": "execute_result"
    }
   ],
   "source": [
    "type(r.content)"
   ]
  },
  {
   "cell_type": "code",
   "execution_count": null,
   "metadata": {},
   "outputs": [],
   "source": []
  }
 ],
 "metadata": {
  "kernelspec": {
   "display_name": "Python 3",
   "language": "python",
   "name": "python3"
  },
  "language_info": {
   "codemirror_mode": {
    "name": "ipython",
    "version": 3
   },
   "file_extension": ".py",
   "mimetype": "text/x-python",
   "name": "python",
   "nbconvert_exporter": "python",
   "pygments_lexer": "ipython3",
   "version": "3.6.4"
  }
 },
 "nbformat": 4,
 "nbformat_minor": 2
}
