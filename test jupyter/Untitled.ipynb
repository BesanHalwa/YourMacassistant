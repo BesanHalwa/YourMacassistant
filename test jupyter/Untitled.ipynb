{
 "cells": [
  {
   "cell_type": "code",
   "execution_count": 6,
   "metadata": {},
   "outputs": [],
   "source": [
    "import os"
   ]
  },
  {
   "cell_type": "code",
   "execution_count": 3,
   "metadata": {},
   "outputs": [],
   "source": [
    "text = \"59 Desire: The starting Point of All Achievement the medium by which people staged a comeback after having been defeated in 100 different ways; I have seen it provide my own son with a normal, happy, successful life, despite Nature having sent him into the world without ears, How can one harness and use the power of desire? This has been answered through this chapter, and the subsequent chapters of this book. I wish to convey the thought that all achievement, no matter what its nature or purpose, must begin with an intense, for something definite. Through some strange and powerful principle of 'mental chemistry', Nature wraps up in the impulse of strong desire 'that something' which recognises no such word as impossible, and accepts no such reality as failure, \""
   ]
  },
  {
   "cell_type": "code",
   "execution_count": 7,
   "metadata": {},
   "outputs": [],
   "source": [
    "def speak(text, delimeter='.'):\n",
    "    # split the paragraph into sentences\n",
    "    # or as according to the delimeter\n",
    "    text = str(text).split(delimeter)\n",
    "\n",
    "    for txt in text:\n",
    "        txt = txt.rstrip()\n",
    "        os.system(\"say \" + txt)\n",
    "\n",
    "    return 0\n"
   ]
  },
  {
   "cell_type": "code",
   "execution_count": 8,
   "metadata": {},
   "outputs": [
    {
     "data": {
      "text/plain": [
       "0"
      ]
     },
     "execution_count": 8,
     "metadata": {},
     "output_type": "execute_result"
    }
   ],
   "source": [
    "speak(text)"
   ]
  },
  {
   "cell_type": "code",
   "execution_count": null,
   "metadata": {},
   "outputs": [],
   "source": []
  }
 ],
 "metadata": {
  "kernelspec": {
   "display_name": "Python 3",
   "language": "python",
   "name": "python3"
  },
  "language_info": {
   "codemirror_mode": {
    "name": "ipython",
    "version": 3
   },
   "file_extension": ".py",
   "mimetype": "text/x-python",
   "name": "python",
   "nbconvert_exporter": "python",
   "pygments_lexer": "ipython3",
   "version": "3.6.4"
  }
 },
 "nbformat": 4,
 "nbformat_minor": 2
}
