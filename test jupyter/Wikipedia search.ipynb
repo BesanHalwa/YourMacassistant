{
 "cells": [
  {
   "cell_type": "code",
   "execution_count": 53,
   "metadata": {},
   "outputs": [
    {
     "data": {
      "text/plain": [
       "'\\nhttps://pypi.org/project/Wikipedia-API/\\n\\n'"
      ]
     },
     "execution_count": 53,
     "metadata": {},
     "output_type": "execute_result"
    }
   ],
   "source": [
    "\"\"\"\n",
    "https://pypi.org/project/Wikipedia-API/\n",
    "\n",
    "\"\"\""
   ]
  },
  {
   "cell_type": "code",
   "execution_count": 54,
   "metadata": {},
   "outputs": [
    {
     "name": "stdout",
     "output_type": "stream",
     "text": [
      "Requirement already satisfied: wikipedia-api in /Users/boson/anaconda3/lib/python3.6/site-packages (0.3.7)\n",
      "Requirement already satisfied: requests in /Users/boson/anaconda3/lib/python3.6/site-packages (from wikipedia-api) (2.18.4)\n",
      "Requirement already satisfied: chardet<3.1.0,>=3.0.2 in /Users/boson/anaconda3/lib/python3.6/site-packages (from requests->wikipedia-api) (3.0.4)\n",
      "Requirement already satisfied: idna<2.7,>=2.5 in /Users/boson/anaconda3/lib/python3.6/site-packages (from requests->wikipedia-api) (2.6)\n",
      "Requirement already satisfied: urllib3<1.23,>=1.21.1 in /Users/boson/anaconda3/lib/python3.6/site-packages (from requests->wikipedia-api) (1.22)\n",
      "Requirement already satisfied: certifi>=2017.4.17 in /Users/boson/anaconda3/lib/python3.6/site-packages (from requests->wikipedia-api) (2018.1.18)\n"
     ]
    }
   ],
   "source": [
    "!pip3 install wikipedia-api"
   ]
  },
  {
   "cell_type": "code",
   "execution_count": 97,
   "metadata": {},
   "outputs": [],
   "source": [
    "import wikipediaapi"
   ]
  },
  {
   "cell_type": "code",
   "execution_count": 81,
   "metadata": {},
   "outputs": [],
   "source": [
    "article = \"salman khan\""
   ]
  },
  {
   "cell_type": "code",
   "execution_count": 82,
   "metadata": {},
   "outputs": [
    {
     "name": "stdout",
     "output_type": "stream",
     "text": [
      "salman khan (id: ??, ns: 0)\n"
     ]
    }
   ],
   "source": [
    "# How To Get Single Page\n",
    "\n",
    "wiki_wiki = wikipediaapi.Wikipedia('en')\n",
    "\n",
    "page_py = wiki_wiki.page(article)\n",
    "print(page_py)"
   ]
  },
  {
   "cell_type": "code",
   "execution_count": 83,
   "metadata": {},
   "outputs": [
    {
     "name": "stdout",
     "output_type": "stream",
     "text": [
      "Page - Exists: True\n",
      "Page - Exists: False\n"
     ]
    }
   ],
   "source": [
    "# How To Check If Wiki Page Exists\n",
    "\n",
    "page_py = wiki_wiki.page(article)\n",
    "print(\"Page - Exists: %s\" % page_py.exists())\n",
    "# Page - Exists: True\n",
    "\n",
    "page_missing = wiki_wiki.page('NonExistingPageWithStrangeName')\n",
    "print(\"Page - Exists: %s\" %     page_missing.exists())\n",
    "# Page - Exists: False"
   ]
  },
  {
   "cell_type": "code",
   "execution_count": 84,
   "metadata": {},
   "outputs": [
    {
     "name": "stdout",
     "output_type": "stream",
     "text": [
      "Page - Title: Salman Khan\n",
      "Page - Summary: Abdul Rashid Salim Salman Khan (born 27 December 1965), cred\n"
     ]
    }
   ],
   "source": [
    "# How To Get Page Summary\n",
    "\n",
    "print(\"Page - Title: %s\" % page_py.title)\n",
    "# Page - Title: Python (programming language)\n",
    "\n",
    "print(\"Page - Summary: %s\" % page_py.summary[0:60])\n",
    "# Page - Summary: Python is a widely used high-level programming language for"
   ]
  },
  {
   "cell_type": "code",
   "execution_count": 85,
   "metadata": {},
   "outputs": [
    {
     "name": "stdout",
     "output_type": "stream",
     "text": [
      "https://en.wikipedia.org/wiki/Salman_Khan\n",
      "https://en.wikipedia.org/wiki/Salman_Khan\n"
     ]
    }
   ],
   "source": [
    "# How To Get Page URL\n",
    "\n",
    "print(page_py.fullurl)\n",
    "# https://en.wikipedia.org/wiki/Python_(programming_language)\n",
    "\n",
    "print(page_py.canonicalurl)\n",
    "# https://en.wikipedia.org/wiki/Python_(programming_language)"
   ]
  },
  {
   "cell_type": "code",
   "execution_count": 86,
   "metadata": {},
   "outputs": [
    {
     "name": "stdout",
     "output_type": "stream",
     "text": [
      "\n",
      "\n"
     ]
    }
   ],
   "source": [
    "# How To Get Full Text\n",
    "\n",
    "wiki_wiki = wikipediaapi.Wikipedia(\n",
    "        language='en',\n",
    "        extract_format=wikipediaapi.ExtractFormat.WIKI\n",
    ")\n",
    "\n",
    "p_wiki = wiki_wiki.page(\"Test 1\")\n",
    "print(p_wiki.text)\n",
    "# Summary\n",
    "# Section 1\n",
    "# Text of section 1\n",
    "# Section 1.1\n",
    "# Text of section 1.1\n",
    "# ...\n",
    "\n",
    "\n",
    "wiki_html = wikipediaapi.Wikipedia(\n",
    "        language='en',\n",
    "        extract_format=wikipediaapi.ExtractFormat.HTML\n",
    ")\n",
    "p_html = wiki_html.page(\"Test 1\")\n",
    "print(p_html.text)\n",
    "# <p>Summary</p>\n",
    "# <h2>Section 1</h2>\n",
    "# <p>Text of section 1</p>\n",
    "# <h3>Section 1.1</h3>\n",
    "# <p>Text of section 1.1</p>\n",
    "# ..."
   ]
  },
  {
   "cell_type": "code",
   "execution_count": 100,
   "metadata": {},
   "outputs": [
    {
     "name": "stdout",
     "output_type": "stream",
     "text": [
      "*: Early life and background - Khan is the eldest son of screenwriter S\n",
      "*: Career - \n",
      "**: 1989–93: Debut and breakthrough - Khan made his acting debut with a suppor\n",
      "**: 1994–2009: Hum Aapke Hain Koun..!! and other films - In 1994, Khan appeared in Rajkumar Santo\n",
      "**: 2009–present: commercial success - 2009 marked a significant turning point \n",
      "*: Production - In 2011, he launched his own production \n",
      "*: Other work - \n",
      "**: Television - In 2008 Khan hosted 10 Ka Dum. The show \n",
      "**: Brand endorsements - Khan was associated as a brand when he h\n",
      "*: Mentor - Khan has mentored a number of aspiring B\n",
      "*: Philanthropy - Khan has been involved in several charit\n",
      "*: Personal life - Khan resides in the Galaxy Apartments, B\n",
      "*: In the media - In 2004 Khan was ranked as the 7th Best \n",
      "*: Controversies - \n",
      "**: Hit-and-run case - On 28 September 2002, Khan was arrested \n",
      "**: Relationship with Aishwarya Rai - His relationship with actress Aishwarya \n",
      "**: Blackbuck hunting and Arms Act violations cases - The case involves the alleged killing of\n",
      "**: Remarks about 26/11 attacks - On September 2010, Khan was reported to \n",
      "**: Tweets on Yakub Memon - On 25 July 2015, Khan made a number of t\n",
      "**: Uri attack - On September 2016, Khan made a statement\n",
      "*: Accolades - Salman Khan won numerous awards includin\n",
      "*: Discography - Khan has sung the following Hindi songs \n",
      "*: See also - Salman Khan filmography\n",
      "List of awards a\n",
      "*: References - \n",
      "*: Bibliography - \n",
      "*: External links - Salman Khan on IMDb \n",
      "Salman Khan at Boll\n"
     ]
    }
   ],
   "source": [
    "# How To Get Page Sections\n",
    "\n",
    "def print_sections(sections, level=0):\n",
    "        for s in sections:\n",
    "                print(\"%s: %s - %s\" % (\"*\" * (level + 1), s.title, s.text[0:40]))\n",
    "                print_sections(s.sections, level + 1)\n",
    "\n",
    "\n",
    "print_sections(page_py.sections)"
   ]
  },
  {
   "cell_type": "code",
   "execution_count": 88,
   "metadata": {},
   "outputs": [
    {
     "data": {
      "text/plain": [
       "list"
      ]
     },
     "execution_count": 88,
     "metadata": {},
     "output_type": "execute_result"
    }
   ],
   "source": [
    "type(page_py.sections)"
   ]
  },
  {
   "cell_type": "code",
   "execution_count": 89,
   "metadata": {},
   "outputs": [
    {
     "data": {
      "text/plain": [
       "Section: Early life and background (1):\n",
       "Khan is the eldest son of screenwriter Salim Khan and his first wife Sushila Charak (who later adopted the name Salma Khan). His paternal ancestors were Pashtuns from present-day Afghanistan who immigrated to Indore, Madhya Pradesh in the mid 1800s. His grandfather Abdul Rashid Khan was a Deputy Inspector General of the Indore state who was awarded Diler Jung award of the Holkar times. Khan's mother is a Maharashtrian, whose father Baldev Singh Charak comes from Jammu-Kashmir and whose mother comes from Maharashtra.\n",
       "Khan's stepmother is Helen, a former actress. He has two brothers, Arbaaz Khan and Sohail Khan; and two sisters, Alvira Khan Agnihotri, who is married to actor/director Atul Agnihotri, and an adopted sister Arpita.Salman finished his schooling at St. Stanislaus High School in Bandra, Mumbai, as did his younger brothers Arbaaz and Sohail. Previously, he studied at The Scindia School, Gwalior for a few years along with his younger brother Arbaaz.\n",
       "He attended St. Xavier's College in Mumbai but dropped out.\n",
       "Subsections (0):"
      ]
     },
     "execution_count": 89,
     "metadata": {},
     "output_type": "execute_result"
    }
   ],
   "source": [
    "page_py.sections[0]"
   ]
  },
  {
   "cell_type": "code",
   "execution_count": 90,
   "metadata": {},
   "outputs": [
    {
     "data": {
      "text/plain": [
       "Section: Career (1):\n",
       "\n",
       "Subsections (3):\n",
       "Section: 1989–93: Debut and breakthrough (2):\n",
       "Khan made his acting debut with a supporting role in the 1988 film Biwi Ho To Aisi in which his voice was dubbed by someone else. His first leading role in a Bollywood movie was in Sooraj R. Barjatya's romantic family drama Maine Pyar Kiya (1989), one of India's highest-grossing films. It earned him his first nomination for a Best Actor at Filmfare, but the much expected Filmfare Award for Best Male Debut was awarded to Sooraj Barjatya.Maine Pyar Kiya was later dubbed in English as When Love Calls, a 125-minute version, which was the biggest hit in the Caribbean market at Guyana and also dominated the box office collections in Trinidad and Tobago. Maine Pyar Kiya had also been dubbed in Spanish as Te Amo, the first experiment of its kind. This 125-minute film also proved its universal appeal with a glorious 10-week premiere run at Lima, capital of Peru. In Telugu as Prema Paavuraalu, it crossed 25 weeks at Visakhapatnam and had a 100-plus day run at six centres in Andhra Pradesh. It was also dubbed in Tamil as Kaadhal Oru Kavithai and in Malayalam as Ina Praavukal.\n",
       "1990 saw one film release starring Khan; Baaghi: A Rebel for Love, a box office success, followed by three moderately successful films in 1991, Patthar Ke Phool, Sanam Bewafa, and Kurbaan. In the same year, Khan co-starred with Sanjay Dutt and Madhuri Dixit in the Romance drama film Saajan. The movie was a critical and financial success. Despite these early successes, nearly all of his 1992–1993 releases resulted in box office failures.\n",
       "Subsections (0):\n",
       "\n",
       "Section: 1994–2009: Hum Aapke Hain Koun..!! and other films (2):\n",
       "In 1994, Khan appeared in Rajkumar Santoshi's Andaz Apna Apna, co-starring Aamir Khan. At the time of its release, the film failed at the box office but has gained a cult status over the years. He returned to success later in the year with his second collaboration with director Sooraj Barjatya in the romance Hum Aapke Hain Koun..! co-starring Madhuri Dixit. During the 1995 awards season, the film won 3 Filmfare Awards for Best Film, Best Director and Best Actress. It also won the National Award for being the most popular film of the year. Earning over ₹1.35 billion (US$20 million) worldwide, the film became the biggest Bollywood hit of the year. It is one of the films on Box Office India's list of \"Biggest Blockbusters Ever in Hindi Cinema\". This film turned out to be one of Bollywood's highest-grossing films ever, becoming the fourth-highest earner of all time. The film broke all the previous records and maintained itself as the highest-grossing Bollywood film throughout history for 7 years. In 1995 he starred in Rakesh Roshan's Karan Arjun alongside Shah Rukh Khan, Karan Arjun is an upbeat Bollywood musical, with religious overtones and action. The film was released on 13 January 1995. The two played brothers who are reincarnated after being killed by family enemies. The film was the second biggest hit of the year, and his role of Karan once again put his name among the nominees for the Best Actor award for Filmfare Awards.In 1996, Khan performed in two movies, Sanjay Leela Bhansali's directional debut Khamoshi: The Musical, a box office failure, but critically acclaimed. and Raj Kanwar's action hit Jeet.\n",
       "He had two releases in 1997: Judwaa and Auzaar. The former was a comedy directed by David Dhawan where he played a dual role of twins separated at birth and was a commercial success, while the latter, an action thriller was \"below average\".Khan worked in five different films in 1998, his first release being the romantic comedy film Pyaar Kiya To Darna Kya opposite Kajol, one of the biggest commercial successes of that year. This was followed by the moderately successful drama Jab Pyaar Kisise Hota Hai where Khan played a young man who has to take a child who claims to be his son, under his custody. Khan's performance in the film earned him several positive notices and favourable reviews from critics. He rounded off the year with an extended cameo in Karan Johar's directorial debut, Kuch Kuch Hota Hai, for which he earned a second Filmfare Award under the Best Supporting Actor category.In 1999, Khan starred in three films: Hum Saath-Saath Hain: We Stand United and Biwi No.1, (the two highest-grossing films that year) and Hum Dil De Chuke Sanam alongside Aishwarya Rai and Ajay Devgan, which earned him another Best Actor nomination at the Filmfare awards. The film was a critical and commercial success along with its music.\n",
       "In 2000, Khan acted in films including Har Dil Jo Pyar Karega and Chori Chori Chupke Chupke, which addressed the issue of surrogate childbirth; Khan played the role of a rich industrialist who hires a surrogate mother after his wife becomes infertile. Critics noted his turn towards a more serious role, which reportedly had more substance in comparison to his previous roles. In 2002 he starred in the delayed release Hum Tumhare Hain Sanam.\n",
       "For Tere Naam, (2003) Taran Adarsh said of him, \"Salman Khan is exceptional in a role that fits him to the T. He breathes fire in sequences that demand uneasiness. But beneath the tough exterior lies a vulnerable person and this facet in particular comes to the fore in the latter reels. His emotional outbursts are splendid...\" Tere Naam is to date considered Salman Khan's best film with a critically acclaimed performance. He subsequently continued his success at the box office with comedies like Mujhse Shaadi Karogi (2004) and No Entry (2005). Khan's work in 2006 included Jaan-E-Mann and Baabul, however neither of these films were successful at the box office.\n",
       "Khan started 2007 with the ensemble film Salaam E Ishq. His next release Partner performed well at the box office. He next appeared in the Hollywood movie, Marigold: An Adventure in India which told the love story of an Indian man and an American woman. Khan starred in three films throughout 2008, all of which underperformed.Khan hosted the second season of the game show 10 Ka Dum in the year 2009, which turned out to be even more successful than his first season as host in the year 2008. The show got very high TRPs for Sony Entertainment Television and according to reports, the show helped Sony TV regain its third position in the Indian television ratings.\n",
       "Subsections (0):\n",
       "\n",
       "Section: 2009–present: commercial success (2):\n",
       "2009 marked a significant turning point in Khan's career. Firstly, Wanted, directed by choreographer turned director Prabhu Deva, became a box office success and earned superhit status. In the same year, he appeared in two other films, Main Aurr Mrs Khanna and London Dreams. London Dreams did average business due to the uninspiring music, but Main Aurr Mrs Khanna was a commercial failure. Khan's first release of 2010 was Anil Sharma's commercially and critically unsuccessful film Veer.\n",
       "\n",
       "His next release, Dabangg was released on Eid, 10 September 2010. Khan played the role of a fearless cop with comic effect in the film. It opened to generally positive reviews and broke several box office records upon release. The film set another box office record, grossing ₹808.7 million in its first week, thus becoming the highest opening week grossing Bollywood film, overtaking the previous record of 3 Idiots. Dabangg went on to gross ₹2.15 billion worldwide. It is the highest-grossing Bollywood film of 2010 and, as of 2012, the fourth highest–grossing Bollywood film of all time. Dabangg went on to win several awards, including the National Film Award for Best Popular Film Providing Wholesome Entertainment. It was later remade in Tamil and Telugu, The film was produced by his brother Arbaaz Khan, and was released on 10 September 2010. It made a record opening at the box office. Dabangg at that time was the second and now the fourth highest-grossing Bollywood film and for his performance, Khan received a Star Screen Award for Best Actor and a Stardust Award for Star of the Year – Male and was nominated for his sixth Filmfare Award for Best Actor. Anupama Chopra from NDTV wrote about his performance: \"It's the role of a lifetime and Salman Khan bites into it like a starving man devours a feast. He inhabits it fully, strutting and swaggering and even, spoofing himself.\"Khan's first release of 2011 was Ready. Upon release, Ready became the second highest opening day grosser, as well as the second highest weekend grossing Bollywood film at that time, after Dabangg. It also held records for being the second highest grossing Bollywood film of 2011. He next appeared in Bodyguard, a remake of the 2010 Malayalam film of the same name. The film was not well received by critics, though it became a financial success, with a domestic total of 1,409.5 million (US$26 million)—India's highest-earning film of the year.\n",
       "\n",
       "Khan's first release of 2012 was Ek Tha Tiger where he starred opposite Katrina Kaif and acted as an Indian Spy. The film garnered positive to mixed reactions from critics whilst opening to extremely strong box office collections. The film went on to break the opening day box office record with a collection of ₹312.3 million (US$4.5 million) and became the second Bollywood film to gross over ₹3 billion (US$44 million) worldwide, behind only 3 Idiots, with an eventual gross of ₹3.1 billion (US$45 million). It marks his first association with Yash Raj Films. The film also broke the records of Opening weekend net gross (First 3 Days of Release), Opening week net gross (First 7 Days of Release) and entered the 100 crore club within just 5 days of release, breaking Khan's own record set by Bodyguard in 7 Days.Khan's second release of 2012 is Dabangg 2, which is the sequel of Dabangg, under the production of Arbaaz Khan. Upon release, the film netted an excellent ₹192.1 million (US$2.8 million) on its opening day and became the biggest opener for a non-holiday Friday in India, beating the previous record held by Don 2, and collected ₹582.6 million (US$8.5 million), beating the previous three-day record set by Ek Tha Tiger. Dabangg 2 eventually emerged as a huge financial success with revenues of ₹2.5 billion (US$36 million) globally.After a one-year gap, Khan's first release of 2014 was Jai Ho which he starred in opposite Daisy Shah. After five consecutive successful films, his next film performed moderately at the box office despite making over 100 crore in India. His second release, Kick, a remake of a Telugu film has entered the Rs. 200 crore club in India on Eid. He also sang the \"Hangover\" song from the movie.Khan's first film of 2015, Bajrangi Bhaijaan, which was released on Eid, received positive reviews from critics and the public and broke several box office records upon release. The film set an all-time weekend record collecting ₹1.02 billion (US$15 million) on its first weekend at domestic box offices and became Khan's eighth consecutive film to gross over 100 crores. The film, grossing ₹1.84 billion (US$27 million) on its first week beat the previous record of PK. This was Khan's first and the second Bollywood film after PK to enter the 300 club. The film is currently the second highest-grossing Bollywood film in India and worldwide with a collection of over 600 crore. Bajrangi Bhaijaan crossed 300 crore within 20 days of its release and became the second highest grosser to date in India, while his second film, Prem Ratan Dhan Payo, a Diwali release received mixed reviews from critics and the public and broke several box office records upon release. The film became the ninth consecutive film of Salman Khan to gross over 100 crores. The film grossed ₹1.73 billion (US$27 million) on its first week. As of 25 November, the film collected ₹2.01 billion. With this, khan become the only actor to give three back-to-back movies which collected more than ₹200 crore (US$29 million) net domestically. He became the only actor to collect over ₹5 billion (US$73 million) domestic net in a single year in India.Khan's first film of 2016, yet again another Eid release, Sultan, directed by Ali Abbas Zafar for Yash Raj Films received positive reviews from both critics and the public breaking several box office records. The film opened on an average of 70% audience occupancy and grossed approximately ₹36.54 crore (US$5.3 million) on its opening day. The film also collected another ₹74.86 (US$1.10) on its first weekend, bringing its total first week collections to an approximate of ₹208 crore (US$30 million). By the end of its second week, the film had grossed an estimated ₹278 crore (US$40 million) and later became the second film of Khan to net over 300 crores. As of 9 August, the film grossed ₹583.26 crore (US$85 million) worldwide.In June 2017, Khan appeared in Tubelight, his third collaboration with Kabir Khan after Ek Tha Tiger and Bajrangi Bhaijaan. This film also starred Khan's real-life brother Sohail Khan. Despite its high expectations, the film failed to maintain a strong run at the box office. Khan's second release of 2017 Tiger Zinda Hai, a sequel to Ek Tha Tiger grossed ₹190 crore worldwide in its opening weekend.  As of 23 January 2018, the film has grossed ₹552 crore (US$80 million) worldwide, including ₹427.67 crore (US$62 million) in India and ₹122.98 crore (US$18 million) overseas.Khan starrer Kick 2 to release on Christmas 2019 After Main Hoon Hero Tera song, Khan is again going to sing a romantic song for Yamla Pagla Deewana 3 with Lulia Vantur. Khan is back in the bay, the actor has begun shooting for his next with Ali Abbas Zafar, Bharat.\n",
       "Subsections (0):"
      ]
     },
     "execution_count": 90,
     "metadata": {},
     "output_type": "execute_result"
    }
   ],
   "source": [
    "page_py.sections[1]"
   ]
  },
  {
   "cell_type": "code",
   "execution_count": 91,
   "metadata": {},
   "outputs": [
    {
     "data": {
      "text/plain": [
       "wikipediaapi.wikipedia.WikipediaPageSection"
      ]
     },
     "execution_count": 91,
     "metadata": {},
     "output_type": "execute_result"
    }
   ],
   "source": [
    "type(page_py.sections[0])"
   ]
  },
  {
   "cell_type": "code",
   "execution_count": 92,
   "metadata": {},
   "outputs": [],
   "source": [
    "speech = str(page_py.sections[0])"
   ]
  },
  {
   "cell_type": "code",
   "execution_count": 93,
   "metadata": {},
   "outputs": [
    {
     "data": {
      "text/plain": [
       "str"
      ]
     },
     "execution_count": 93,
     "metadata": {},
     "output_type": "execute_result"
    }
   ],
   "source": [
    "type(speech)"
   ]
  },
  {
   "cell_type": "code",
   "execution_count": 94,
   "metadata": {},
   "outputs": [],
   "source": [
    "import os"
   ]
  },
  {
   "cell_type": "code",
   "execution_count": 95,
   "metadata": {},
   "outputs": [],
   "source": [
    "speech = speech.split(\".\") "
   ]
  },
  {
   "cell_type": "code",
   "execution_count": 96,
   "metadata": {},
   "outputs": [],
   "source": [
    "for s in speech:    \n",
    "    os.system(\"say \" + s)"
   ]
  },
  {
   "cell_type": "code",
   "execution_count": 99,
   "metadata": {},
   "outputs": [
    {
     "data": {
      "text/plain": [
       "'Abdul Rashid Salim Salman Khan (born 27 December 1965), credited as Salman Khan (pronunciation: [səlˈmaːn ˈxaːn]) is an Indian film actor, producer, singer and television personality. In a film career'"
      ]
     },
     "execution_count": 99,
     "metadata": {},
     "output_type": "execute_result"
    }
   ],
   "source": []
  },
  {
   "cell_type": "code",
   "execution_count": 104,
   "metadata": {},
   "outputs": [
    {
     "data": {
      "text/plain": [
       "False"
      ]
     },
     "execution_count": 104,
     "metadata": {},
     "output_type": "execute_result"
    }
   ],
   "source": [
    "not True"
   ]
  },
  {
   "cell_type": "code",
   "execution_count": 105,
   "metadata": {},
   "outputs": [
    {
     "data": {
      "text/plain": [
       "True"
      ]
     },
     "execution_count": 105,
     "metadata": {},
     "output_type": "execute_result"
    }
   ],
   "source": [
    "not False"
   ]
  },
  {
   "cell_type": "code",
   "execution_count": null,
   "metadata": {},
   "outputs": [],
   "source": []
  }
 ],
 "metadata": {
  "kernelspec": {
   "display_name": "Python 3",
   "language": "python",
   "name": "python3"
  },
  "language_info": {
   "codemirror_mode": {
    "name": "ipython",
    "version": 3
   },
   "file_extension": ".py",
   "mimetype": "text/x-python",
   "name": "python",
   "nbconvert_exporter": "python",
   "pygments_lexer": "ipython3",
   "version": "3.6.4"
  }
 },
 "nbformat": 4,
 "nbformat_minor": 2
}
